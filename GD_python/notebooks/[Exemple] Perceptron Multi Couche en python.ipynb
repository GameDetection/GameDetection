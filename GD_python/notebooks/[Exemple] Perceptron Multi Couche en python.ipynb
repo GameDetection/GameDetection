{
 "cells": [
  {
   "cell_type": "code",
   "execution_count": 1,
   "metadata": {
    "id": "QBYoBtXjVqnX"
   },
   "outputs": [],
   "source": [
    "import matplotlib.pyplot as plt\n",
    "import random\n",
    "from typing import List\n",
    "import math\n",
    "import numpy as np"
   ]
  },
  {
   "cell_type": "markdown",
   "metadata": {
    "id": "XTFjdsmxvvU4"
   },
   "source": [
    "# Utils"
   ]
  },
  {
   "cell_type": "code",
   "execution_count": 2,
   "metadata": {
    "id": "hlmiC_VqwLdk"
   },
   "outputs": [],
   "source": [
    "def compute_accuracy_metric(model, all_samples_inputs, all_samples_expected_outputs, is_binary):\n",
    "  valid_predictions = 0\n",
    "  for k in range(len(all_samples_inputs)):\n",
    "    predicted_value = model.predict(all_samples_inputs[k], True)\n",
    "    if is_binary and predicted_value[0] * all_samples_expected_outputs[k][0] >= 0:\n",
    "      valid_predictions += 1\n",
    "    elif not is_binary and np.argmax(predicted_value) == np.argmax(all_samples_expected_outputs[k]):      \n",
    "      valid_predictions += 1\n",
    "  \n",
    "  return valid_predictions / len(all_samples_inputs)\n",
    "      "
   ]
  },
  {
   "cell_type": "markdown",
   "metadata": {
    "id": "iCuKrZyrWh33"
   },
   "source": [
    "# Definition Structure PMC"
   ]
  },
  {
   "cell_type": "code",
   "execution_count": 3,
   "metadata": {
    "id": "iodbzQX-WN2k"
   },
   "outputs": [],
   "source": [
    "class MyMLP:\n",
    "  def __init__(self, npl: List[int]):\n",
    "    self.d = list(npl)\n",
    "    self.L = len(npl) - 1\n",
    "    self.W = [] # self.W[l][i][j]\n",
    "\n",
    "    self.X = [] # self.X[l][j]\n",
    "    self.deltas = [] # self.X[l][j]\n",
    "\n",
    "    for l in range(len(npl)):\n",
    "      self.W.append([])\n",
    "\n",
    "      if l == 0:\n",
    "        continue\n",
    "\n",
    "      for i in range(self.d[l - 1] + 1):\n",
    "        self.W[l].append([])\n",
    "\n",
    "        for j in range(self.d[l] + 1):\n",
    "          self.W[l][i].append(0.0 if j == 0.0 else (random.random() * 2.0) - 1.0)\n",
    "\n",
    "    for l in range(len(npl)):\n",
    "      self.X.append([])\n",
    "      self.deltas.append([])\n",
    "\n",
    "      for j in range(self.d[l] + 1):\n",
    "        self.X[l].append(1.0 if j == 0.0 else 0.0)\n",
    "        self.deltas[l].append(0.0)\n",
    "\n",
    "  def predict(self, inputs: List[float], is_classification: bool) -> List[float]:\n",
    "    assert(len(inputs) == self.d[0])\n",
    "    \n",
    "    for j, v in enumerate(inputs):\n",
    "      self.X[0][j + 1] = v\n",
    "\n",
    "    for l in range(1, len(self.d)):\n",
    "      for j in range(1, self.d[l] + 1):\n",
    "        total = 0.0\n",
    "        for i in range(0, self.d[l - 1] + 1):\n",
    "          total += self.W[l][i][j] * self.X[l - 1][i]\n",
    "        \n",
    "        if l != self.L or is_classification:\n",
    "          total = math.tanh(total)\n",
    "        self.X[l][j] = total\n",
    "    \n",
    "    return self.X[self.L][1:]\n",
    "\n",
    "  def train(self, \n",
    "            all_samples_inputs: List[List[float]], \n",
    "            all_samples_expected_outputs: List[List[float]],\n",
    "            learning_rate: float, # alpha\n",
    "            nb_iter: int,\n",
    "            is_classification: bool\n",
    "            ):\n",
    "    assert(len(all_samples_inputs) == len(all_samples_expected_outputs))\n",
    "    \n",
    "    \n",
    "    for it in range(nb_iter):\n",
    "      k = random.randint(0, len(all_samples_inputs) - 1)\n",
    "      sample_inputs = all_samples_inputs[k]\n",
    "      sample_expected_outputs = all_samples_expected_outputs[k]\n",
    "\n",
    "      _ = self.predict(sample_inputs, is_classification)\n",
    "\n",
    "      for j in range(1, self.d[self.L] + 1):\n",
    "        self.deltas[self.L][j] = self.X[self.L][j] - sample_expected_outputs[j - 1]\n",
    "        if is_classification:\n",
    "          self.deltas[self.L][j] *= 1 - self.X[self.L][j] ** 2\n",
    "      \n",
    "      for l in reversed(range(1, len(self.d))):\n",
    "        for i in range(1, self.d[l - 1] + 1):\n",
    "            total = 0.0\n",
    "            for j in range(1, self.d[l] + 1):\n",
    "              total += self.W[l][i][j] * self.deltas[l][j]\n",
    "            total *= 1 - self.X[l-1][i] ** 2\n",
    "            self.deltas[l - 1][i] = total\n",
    "        \n",
    "      for l in range(1, len(self.d)):\n",
    "        for i in range(self.d[l - 1] + 1):\n",
    "          for j in range(1, self.d[l] + 1):\n",
    "            self.W[l][i][j] -= learning_rate * self.X[l-1][i] * self.deltas[l][j]\n"
   ]
  },
  {
   "cell_type": "markdown",
   "metadata": {
    "id": "X3zv7mXhqVPO"
   },
   "source": [
    "# Test Sans couche cachée"
   ]
  },
  {
   "cell_type": "code",
   "execution_count": 4,
   "metadata": {
    "id": "OaWwts2WWGbU"
   },
   "outputs": [],
   "source": [
    "points = [\n",
    "          [0, 0],\n",
    "          [0, 1],\n",
    "          [1, 0],\n",
    "]"
   ]
  },
  {
   "cell_type": "code",
   "execution_count": 5,
   "metadata": {
    "id": "H5g2cGyCWHat"
   },
   "outputs": [],
   "source": [
    "XOnes = [p[0] for p in points]\n",
    "XTwos = [p[1] for p in points]"
   ]
  },
  {
   "cell_type": "code",
   "execution_count": 6,
   "metadata": {
    "id": "2Qccg_X_WIe6"
   },
   "outputs": [],
   "source": [
    "Y = [\n",
    "     [-1],\n",
    "     [1],\n",
    "     [1],\n",
    "]"
   ]
  },
  {
   "cell_type": "code",
   "execution_count": 7,
   "metadata": {
    "id": "kq-WJ8MrWJ5t"
   },
   "outputs": [],
   "source": [
    "colors= ['blue' if y[0] == 1 else 'red' for y in Y]"
   ]
  },
  {
   "cell_type": "code",
   "execution_count": 8,
   "metadata": {
    "colab": {
     "base_uri": "https://localhost:8080/",
     "height": 282
    },
    "id": "-ILzL65VWLMH",
    "outputId": "0729f2ea-f0bb-44a9-816c-ddc2841b8ec7"
   },
   "outputs": [
    {
     "data": {
      "text/plain": [
       "<matplotlib.collections.PathCollection at 0x7fae6d48ba10>"
      ]
     },
     "execution_count": 8,
     "metadata": {},
     "output_type": "execute_result"
    },
    {
     "data": {
      "image/png": "[encoded data removed]",
      "text/plain": [
       "<Figure size 432x288 with 1 Axes>"
      ]
     },
     "metadata": {
      "needs_background": "light"
     },
     "output_type": "display_data"
    }
   ],
   "source": [
    "plt.scatter(XOnes, XTwos, c=colors)"
   ]
  },
  {
   "cell_type": "markdown",
   "metadata": {
    "id": "ZcEAUcKoq4Sj"
   },
   "source": [
    "## Création du Modele"
   ]
  },
  {
   "cell_type": "code",
   "execution_count": 9,
   "metadata": {
    "id": "_HN4sSM5j3Nj"
   },
   "outputs": [],
   "source": [
    "model = MyMLP([2, 1])"
   ]
  },
  {
   "cell_type": "markdown",
   "metadata": {
    "id": "C4U8Dkkrqx6r"
   },
   "source": [
    "## Avant entrainement"
   ]
  },
  {
   "cell_type": "code",
   "execution_count": 10,
   "metadata": {
    "colab": {
     "base_uri": "https://localhost:8080/"
    },
    "id": "2o3jdrqBj8Lw",
    "outputId": "9931ff42-359b-4a3e-ee45-36bf977e9600"
   },
   "outputs": [
    {
     "name": "stdout",
     "output_type": "stream",
     "text": [
      "[0.665276986996937]\n",
      "[0.9107002815997399]\n",
      "[0.5898494297499051]\n"
     ]
    }
   ],
   "source": [
    "for p in points:\n",
    "  print(model.predict(p, True))"
   ]
  },
  {
   "cell_type": "code",
   "execution_count": 11,
   "metadata": {
    "colab": {
     "base_uri": "https://localhost:8080/"
    },
    "id": "j4ygsOd3xOdU",
    "outputId": "1629a92e-dca0-4994-c728-47d689f69d6c"
   },
   "outputs": [
    {
     "data": {
      "text/plain": [
       "0.6666666666666666"
      ]
     },
     "execution_count": 11,
     "metadata": {},
     "output_type": "execute_result"
    }
   ],
   "source": [
    "compute_accuracy_metric(model, points, Y, True)"
   ]
  },
  {
   "cell_type": "markdown",
   "metadata": {
    "id": "-qLRNQbYq1Qg"
   },
   "source": [
    "## Entrainement"
   ]
  },
  {
   "cell_type": "code",
   "execution_count": 12,
   "metadata": {
    "id": "RhrnaoO6kAgI"
   },
   "outputs": [],
   "source": [
    "model.train(points, Y, 0.01, 100000, True)"
   ]
  },
  {
   "cell_type": "markdown",
   "metadata": {
    "id": "pFsuEY0HqzcP"
   },
   "source": [
    "## Après Entrainement"
   ]
  },
  {
   "cell_type": "code",
   "execution_count": 13,
   "metadata": {
    "colab": {
     "base_uri": "https://localhost:8080/"
    },
    "id": "DnmVgH6NpkSa",
    "outputId": "34211389-4af3-4647-bfd9-4d8ec957b81f"
   },
   "outputs": [
    {
     "name": "stdout",
     "output_type": "stream",
     "text": [
      "[-0.9549807358778833]\n",
      "[0.9715389225169531]\n",
      "[0.9714601216689666]\n"
     ]
    }
   ],
   "source": [
    "for p in points:\n",
    "  print(model.predict(p, True))"
   ]
  },
  {
   "cell_type": "code",
   "execution_count": 14,
   "metadata": {
    "colab": {
     "base_uri": "https://localhost:8080/"
    },
    "id": "Q8jmxeYFxWfs",
    "outputId": "3261fa45-8d75-4af0-ae73-fdbcbb1ddb25"
   },
   "outputs": [
    {
     "data": {
      "text/plain": [
       "1.0"
      ]
     },
     "execution_count": 14,
     "metadata": {},
     "output_type": "execute_result"
    }
   ],
   "source": [
    "compute_accuracy_metric(model, points, Y, True)"
   ]
  },
  {
   "cell_type": "markdown",
   "metadata": {
    "id": "H7ZkiO3eqLQy"
   },
   "source": [
    "# Test sur le XOR"
   ]
  },
  {
   "cell_type": "code",
   "execution_count": 15,
   "metadata": {
    "id": "e8y-LbK9p0FC"
   },
   "outputs": [],
   "source": [
    "points = [\n",
    "          [0, 0],\n",
    "          [0, 1],\n",
    "          [1, 0],\n",
    "          [1, 1],\n",
    "]"
   ]
  },
  {
   "cell_type": "code",
   "execution_count": 16,
   "metadata": {
    "id": "0utlo-1fp0FC"
   },
   "outputs": [],
   "source": [
    "XOnes = [p[0] for p in points]\n",
    "XTwos = [p[1] for p in points]"
   ]
  },
  {
   "cell_type": "code",
   "execution_count": 17,
   "metadata": {
    "id": "BK6vaRrtp0FC"
   },
   "outputs": [],
   "source": [
    "Y = [\n",
    "     [-1],\n",
    "     [1],\n",
    "     [1],\n",
    "     [-1],\n",
    "]"
   ]
  },
  {
   "cell_type": "code",
   "execution_count": 18,
   "metadata": {
    "id": "eav-epiFp0FC"
   },
   "outputs": [],
   "source": [
    "colors= ['blue' if y[0] == 1 else 'red' for y in Y]"
   ]
  },
  {
   "cell_type": "code",
   "execution_count": 19,
   "metadata": {
    "colab": {
     "base_uri": "https://localhost:8080/",
     "height": 282
    },
    "id": "VZXzLmkGp0FC",
    "outputId": "c54cd93b-d149-468f-fb2e-e6a186dd493e"
   },
   "outputs": [
    {
     "data": {
      "text/plain": [
       "<matplotlib.collections.PathCollection at 0x7fae6cf91d50>"
      ]
     },
     "execution_count": 19,
     "metadata": {},
     "output_type": "execute_result"
    },
    {
     "data": {
      "image/png": "[encoded data removed]",
      "text/plain": [
       "<Figure size 432x288 with 1 Axes>"
      ]
     },
     "metadata": {
      "needs_background": "light"
     },
     "output_type": "display_data"
    }
   ],
   "source": [
    "plt.scatter(XOnes, XTwos, c=colors)"
   ]
  },
  {
   "cell_type": "markdown",
   "metadata": {
    "id": "Y6GZXJzpq63h"
   },
   "source": [
    "## Création du modèle"
   ]
  },
  {
   "cell_type": "code",
   "execution_count": 20,
   "metadata": {
    "id": "MGe4wRxBp8E1"
   },
   "outputs": [],
   "source": [
    "model = MyMLP([2, 3, 1])"
   ]
  },
  {
   "cell_type": "markdown",
   "metadata": {
    "id": "efRsOGsLqjOY"
   },
   "source": [
    "## Avant Entrainement"
   ]
  },
  {
   "cell_type": "code",
   "execution_count": 21,
   "metadata": {
    "colab": {
     "base_uri": "https://localhost:8080/"
    },
    "id": "oM0IqN6Pp8E1",
    "outputId": "fb00476b-dbe4-481c-d4cb-ee20ab60e7e0"
   },
   "outputs": [
    {
     "name": "stdout",
     "output_type": "stream",
     "text": [
      "[0.06352560709270447]\n",
      "[-0.1649892935598862]\n",
      "[0.17579025314766086]\n",
      "[-0.00891088307234429]\n"
     ]
    }
   ],
   "source": [
    "for p in points:\n",
    "  print(model.predict(p, True))"
   ]
  },
  {
   "cell_type": "code",
   "execution_count": 22,
   "metadata": {
    "colab": {
     "base_uri": "https://localhost:8080/"
    },
    "id": "8ViSBa2cxiFR",
    "outputId": "8d8e0a75-2fba-4548-b0df-8535e473634d"
   },
   "outputs": [
    {
     "data": {
      "text/plain": [
       "0.5"
      ]
     },
     "execution_count": 22,
     "metadata": {},
     "output_type": "execute_result"
    }
   ],
   "source": [
    "compute_accuracy_metric(model, points, Y, True)"
   ]
  },
  {
   "cell_type": "markdown",
   "metadata": {
    "id": "-l7jIVgXqmFD"
   },
   "source": [
    "## Entrainement"
   ]
  },
  {
   "cell_type": "code",
   "execution_count": 23,
   "metadata": {
    "id": "SG8eM83sp8E1"
   },
   "outputs": [],
   "source": [
    "model.train(points, Y, 0.01, 100000, True)"
   ]
  },
  {
   "cell_type": "markdown",
   "metadata": {
    "id": "T_YhiGHKqhOA"
   },
   "source": [
    "## Après entrainement"
   ]
  },
  {
   "cell_type": "code",
   "execution_count": 24,
   "metadata": {
    "colab": {
     "base_uri": "https://localhost:8080/"
    },
    "id": "TMjX2TBJp8E1",
    "outputId": "4b1b58bf-af62-4e2b-fe3f-f75c24ce889b"
   },
   "outputs": [
    {
     "name": "stdout",
     "output_type": "stream",
     "text": [
      "[-0.9783260174680233]\n",
      "[0.9798619854828646]\n",
      "[0.9796945268827298]\n",
      "[-0.9746402653047297]\n"
     ]
    }
   ],
   "source": [
    "for p in points:\n",
    "  print(model.predict(p, True))"
   ]
  },
  {
   "cell_type": "code",
   "execution_count": 25,
   "metadata": {
    "colab": {
     "base_uri": "https://localhost:8080/"
    },
    "id": "jZqYzSrXxkmF",
    "outputId": "060960f3-111a-41fe-cb80-9f26b1974694"
   },
   "outputs": [
    {
     "data": {
      "text/plain": [
       "1.0"
      ]
     },
     "execution_count": 25,
     "metadata": {},
     "output_type": "execute_result"
    }
   ],
   "source": [
    "compute_accuracy_metric(model, points, Y, True)"
   ]
  },
  {
   "cell_type": "code",
   "execution_count": 26,
   "metadata": {
    "id": "NxO3ZSEQJx8_"
   },
   "outputs": [],
   "source": [
    "validation_points = [[[i/100.0, j/100.0] for i in range(0, 100)]for j in range(0, 100)]"
   ]
  },
  {
   "cell_type": "code",
   "execution_count": 27,
   "metadata": {
    "id": "enOrfYfOKc4w"
   },
   "outputs": [],
   "source": [
    "XOnes = [p[0] for lp in validation_points for p in lp]\n",
    "XTwos = [p[1] for lp in validation_points for p in lp]"
   ]
  },
  {
   "cell_type": "code",
   "execution_count": 28,
   "metadata": {
    "id": "4t-G5ZxtKimt"
   },
   "outputs": [],
   "source": [
    "colors= ['blue' if model.predict(p, True)[0] >= 0 else 'red' for lp in validation_points for p in lp]"
   ]
  },
  {
   "cell_type": "code",
   "execution_count": 29,
   "metadata": {
    "colab": {
     "base_uri": "https://localhost:8080/",
     "height": 282
    },
    "id": "J5ouxyYNK1VM",
    "outputId": "6a2fb58e-ad21-496a-e679-9d558bfc314e"
   },
   "outputs": [
    {
     "data": {
      "text/plain": [
       "<matplotlib.collections.PathCollection at 0x7fae6cdac850>"
      ]
     },
     "execution_count": 29,
     "metadata": {},
     "output_type": "execute_result"
    },
    {
     "data": {
      "image/png": "[encoded data removed]",
      "text/plain": [
       "<Figure size 432x288 with 1 Axes>"
      ]
     },
     "metadata": {
      "needs_background": "light"
     },
     "output_type": "display_data"
    }
   ],
   "source": [
    "plt.scatter(XOnes, XTwos, c=colors)"
   ]
  },
  {
   "cell_type": "code",
   "execution_count": 29,
   "metadata": {
    "id": "Tz0GKAZ8t7Wg"
   },
   "outputs": [],
   "source": []
  },
  {
   "cell_type": "code",
   "execution_count": 30,
   "metadata": {
    "id": "5EpQJ9H-uGc8"
   },
   "outputs": [],
   "source": [
    "colors= [\n",
    "         (1 - (model.predict(p, True)[0] + 1) / 2, 0, (model.predict(p, True)[0] + 1) / 2)\n",
    "         for lp in validation_points for p in lp]"
   ]
  },
  {
   "cell_type": "code",
   "execution_count": 31,
   "metadata": {
    "colab": {
     "base_uri": "https://localhost:8080/",
     "height": 282
    },
    "id": "RD_oqt7ouGc8",
    "outputId": "d8816840-cedd-476e-ae77-578ca404b512"
   },
   "outputs": [
    {
     "data": {
      "text/plain": [
       "<matplotlib.collections.PathCollection at 0x7fae6cd562d0>"
      ]
     },
     "execution_count": 31,
     "metadata": {},
     "output_type": "execute_result"
    },
    {
     "data": {
      "image/png": "[encoded data removed]",
      "text/plain": [
       "<Figure size 432x288 with 1 Axes>"
      ]
     },
     "metadata": {
      "needs_background": "light"
     },
     "output_type": "display_data"
    }
   ],
   "source": [
    "plt.scatter(XOnes, XTwos, c=colors)"
   ]
  },
  {
   "cell_type": "code",
   "execution_count": 31,
   "metadata": {
    "id": "mZIbQvPouZo_"
   },
   "outputs": [],
   "source": []
  },
  {
   "cell_type": "markdown",
   "metadata": {
    "id": "FYlN3VTGupO9"
   },
   "source": [
    "# Test régression avec PMC"
   ]
  },
  {
   "cell_type": "code",
   "execution_count": 32,
   "metadata": {
    "id": "7YV2vnilum9q"
   },
   "outputs": [],
   "source": [
    "points = [\n",
    "          [0, 0],\n",
    "          [0, 1],\n",
    "          [1, 0],\n",
    "]"
   ]
  },
  {
   "cell_type": "code",
   "execution_count": 33,
   "metadata": {
    "id": "d1dOlbc8um9q"
   },
   "outputs": [],
   "source": [
    "XOnes = [p[0] for p in points]\n",
    "XTwos = [p[1] for p in points]"
   ]
  },
  {
   "cell_type": "code",
   "execution_count": 34,
   "metadata": {
    "id": "WQxepc6Uum9q"
   },
   "outputs": [],
   "source": [
    "Y = [\n",
    "     [42],\n",
    "     [13],\n",
    "     [-18],\n",
    "]"
   ]
  },
  {
   "cell_type": "markdown",
   "metadata": {
    "id": "Btd7o3oBum9q"
   },
   "source": [
    "## Création du Modele"
   ]
  },
  {
   "cell_type": "code",
   "execution_count": 35,
   "metadata": {
    "id": "LUMN13yfum9q"
   },
   "outputs": [],
   "source": [
    "model = MyMLP([2, 1])"
   ]
  },
  {
   "cell_type": "markdown",
   "metadata": {
    "id": "LqZ8VyiDum9r"
   },
   "source": [
    "## Avant entrainement"
   ]
  },
  {
   "cell_type": "code",
   "execution_count": 36,
   "metadata": {
    "colab": {
     "base_uri": "https://localhost:8080/"
    },
    "id": "TVHZrmn4um9r",
    "outputId": "a088d0a0-8caa-4f1a-ace1-f875e0b01fd6"
   },
   "outputs": [
    {
     "name": "stdout",
     "output_type": "stream",
     "text": [
      "[0.8032763304882442]\n",
      "[1.5787148535844353]\n",
      "[0.41181206763711087]\n"
     ]
    }
   ],
   "source": [
    "for p in points:\n",
    "  print(model.predict(p, False))"
   ]
  },
  {
   "cell_type": "markdown",
   "metadata": {
    "id": "jQwXWeAqum9r"
   },
   "source": [
    "## Entrainement"
   ]
  },
  {
   "cell_type": "code",
   "execution_count": 37,
   "metadata": {
    "id": "vHm_7inNum9r"
   },
   "outputs": [],
   "source": [
    "model.train(points, Y, 0.01, 100000, False)"
   ]
  },
  {
   "cell_type": "markdown",
   "metadata": {
    "id": "4uBBWdsbum9r"
   },
   "source": [
    "## Après Entrainement"
   ]
  },
  {
   "cell_type": "code",
   "execution_count": 38,
   "metadata": {
    "colab": {
     "base_uri": "https://localhost:8080/"
    },
    "id": "CgWcwFzAum9r",
    "outputId": "1424e2d1-8576-4f43-f029-bdf3f9f02f51"
   },
   "outputs": [
    {
     "name": "stdout",
     "output_type": "stream",
     "text": [
      "[41.999999999999645]\n",
      "[13.000000000000178]\n",
      "[-17.999999999999645]\n"
     ]
    }
   ],
   "source": [
    "for p in points:\n",
    "  print(model.predict(p, False))"
   ]
  }
 ],
 "metadata": {
  "colab": {
   "collapsed_sections": [],
   "name": "2022_3A_IABD1_Naive_MLP.ipynb",
   "provenance": []
  },
  "kernelspec": {
   "display_name": "Python 3 (ipykernel)",
   "language": "python",
   "name": "python3"
  },
  "language_info": {
   "codemirror_mode": {
    "name": "ipython",
    "version": 3
   },
   "file_extension": ".py",
   "mimetype": "text/x-python",
   "name": "python",
   "nbconvert_exporter": "python",
   "pygments_lexer": "ipython3",
   "version": "3.9.7"
  }
 },
 "nbformat": 4,
 "nbformat_minor": 1
}
